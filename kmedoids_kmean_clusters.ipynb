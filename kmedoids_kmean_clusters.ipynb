{
 "cells": [
  {
   "cell_type": "code",
   "execution_count": 40,
   "metadata": {},
   "outputs": [],
   "source": [
    "import pandas as pd\n",
    "df=pd.read_csv('//Users/dilrajkaur/Desktop/UCEC/newdata/UCEC-final.csv')\n",
    "\n",
    "genes=list(pd.read_csv('/Users/dilrajkaur/Desktop/UCEC-308.csv',header=None).iloc[:,0])\n",
    "\n",
    "df2=df[genes]\n",
    "\n",
    "df2.to_csv('/Users/dilrajkaur/Desktop/UCEC/newdata/UCEC-subdata.csv')\n",
    "\n",
    "df3=df2.iloc[:,3:]\n",
    "df3=df3.T"
   ]
  },
  {
   "cell_type": "markdown",
   "metadata": {},
   "source": [
    "## KMEDOID CLUSTERING "
   ]
  },
  {
   "cell_type": "code",
   "execution_count": 75,
   "metadata": {},
   "outputs": [],
   "source": [
    "%%capture cap --no-stderr\n",
    "#uncomment above line to print output of this block to a csv \n",
    "\n",
    "n=10\n",
    "\n",
    "\n",
    "from sklearn.cluster import KMeans\n",
    "from sklearn_extra.cluster import KMedoids\n",
    "import numpy as np\n",
    "kmeans = KMedoids(n_clusters=n, random_state=0).fit(df3)\n",
    "#kmeans.labels_\n",
    "#res=kmeans.cluster_centers_\n",
    "g=kmeans.medoid_indices_\n",
    "for i in g:\n",
    "    print(df3.index[i])"
   ]
  },
  {
   "cell_type": "code",
   "execution_count": 76,
   "metadata": {},
   "outputs": [],
   "source": [
    "with open('/Users/dilrajkaur/Desktop/UCEC/newdata/results/medoid/'+str(n)+'_medoid.csv','w') as f:\n",
    "    f.write(cap.stdout)"
   ]
  },
  {
   "cell_type": "markdown",
   "metadata": {},
   "source": [
    "## KMEAN CLUSTERING for os. correlation with other genes"
   ]
  },
  {
   "cell_type": "code",
   "execution_count": 163,
   "metadata": {},
   "outputs": [],
   "source": [
    "n2=15 #no of clusters\n",
    "\n",
    "\n",
    "a=df2.corr()\n",
    "\n",
    "df = pd.DataFrame(a)\n",
    "cols = [1]\n",
    "df = df[df.columns[cols]]\n",
    "df=df.drop(['vital_status', 'OS.time'])\n",
    "df.to_csv('/Users/dilrajkaur/Desktop/UCEC/newdata/results/os.cor.prr.csv')\n",
    "df=abs(df)\n",
    "\n",
    "from sklearn.cluster import KMeans\n",
    "import numpy as np\n",
    "X = df3\n",
    "kmeans = KMeans(n_clusters=n2, random_state=0).fit(X)\n",
    "#kmeans.labels_\n",
    "#kmeans.predict([[0, 0], [12, 3]])\n",
    "#kmeans.cluster_centers_\n",
    "\n",
    "\n",
    "mydict = {i: np.where(kmeans.labels_ == i)[0] for i in range(kmeans.n_clusters)}\n",
    "dictlist = []\n",
    "for key, value in mydict.items():\n",
    "    temp = [key,value]\n",
    "    dictlist.append(temp)"
   ]
  },
  {
   "cell_type": "code",
   "execution_count": 164,
   "metadata": {},
   "outputs": [],
   "source": [
    "%%capture cap --no-stderr \n",
    "for j in range(n2):\n",
    "    print(df.loc[df3.index[[dictlist[j][1]]],:].idxmax()[0])"
   ]
  },
  {
   "cell_type": "code",
   "execution_count": 165,
   "metadata": {},
   "outputs": [],
   "source": [
    "#output\n",
    "with open('/Users/dilrajkaur/Desktop/UCEC/newdata/results/medoid/'+str(n2)+'_kmean_clusters.csv','w') as f:\n",
    "    f.write(cap.stdout)"
   ]
  },
  {
   "cell_type": "code",
   "execution_count": null,
   "metadata": {},
   "outputs": [],
   "source": []
  }
 ],
 "metadata": {
  "kernelspec": {
   "display_name": "Python 3",
   "language": "python",
   "name": "python3"
  },
  "language_info": {
   "codemirror_mode": {
    "name": "ipython",
    "version": 3
   },
   "file_extension": ".py",
   "mimetype": "text/x-python",
   "name": "python",
   "nbconvert_exporter": "python",
   "pygments_lexer": "ipython3",
   "version": "3.6.5"
  }
 },
 "nbformat": 4,
 "nbformat_minor": 2
}
